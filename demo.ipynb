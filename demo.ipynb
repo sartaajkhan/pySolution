{
 "cells": [
  {
   "cell_type": "markdown",
   "metadata": {},
   "source": [
    "## Demo for pySolution v.0.0.2.1.4.3"
   ]
  },
  {
   "cell_type": "markdown",
   "metadata": {},
   "source": [
    "Written by: Sartaaj Khan\n",
    "\n",
    "\n",
    "This notebook will show how to use the pySolution library. This involves declaring the solution object and what can be computed from the solution object. The Pitzer model, from the paper \"A COMPUTER PROGRAM INCORPORATING PITZER'S EQUATIONS FOR CALCULATION OF GEOCHEMICAL REACTIONS IN BRINES\" by L.N. Plummer, D.L. Parkhurst, G.W. Fleming, and S.A. Dunkle, was used in most of these computations. Please refer to this paper prior to using this program to understand results outputted.\n",
    "\n",
    "It should be noted that the Solution object only accepts a Pandas dataframe in the following format:\n",
    "df.columns = ['Component', 'Concentration (mol/L)', 'Charge']"
   ]
  },
  {
   "cell_type": "markdown",
   "metadata": {},
   "source": [
    "### Import libraries"
   ]
  },
  {
   "cell_type": "code",
   "execution_count": 1,
   "metadata": {},
   "outputs": [
    {
     "name": "stderr",
     "output_type": "stream",
     "text": [
      "/Users/sartaajkhan/opt/anaconda3/lib/python3.6/_collections_abc.py:841: MatplotlibDeprecationWarning: \n",
      "The examples.directory rcparam was deprecated in Matplotlib 3.0 and will be removed in 3.2. In the future, examples will be found relative to the 'datapath' directory.\n",
      "  self[key] = other[key]\n"
     ]
    }
   ],
   "source": [
    "import pySolution as pys\n",
    "import pandas as pd"
   ]
  },
  {
   "cell_type": "markdown",
   "metadata": {},
   "source": [
    "### Construct/import dataframe with the exact format described above\n",
    "\n",
    "An example of such a dataframe has been done below"
   ]
  },
  {
   "cell_type": "code",
   "execution_count": 6,
   "metadata": {},
   "outputs": [
    {
     "data": {
      "text/html": [
       "<div>\n",
       "<style scoped>\n",
       "    .dataframe tbody tr th:only-of-type {\n",
       "        vertical-align: middle;\n",
       "    }\n",
       "\n",
       "    .dataframe tbody tr th {\n",
       "        vertical-align: top;\n",
       "    }\n",
       "\n",
       "    .dataframe thead th {\n",
       "        text-align: right;\n",
       "    }\n",
       "</style>\n",
       "<table border=\"1\" class=\"dataframe\">\n",
       "  <thead>\n",
       "    <tr style=\"text-align: right;\">\n",
       "      <th></th>\n",
       "      <th>Component</th>\n",
       "      <th>Concentration (mol/L)</th>\n",
       "      <th>Charge</th>\n",
       "    </tr>\n",
       "  </thead>\n",
       "  <tbody>\n",
       "    <tr>\n",
       "      <th>0</th>\n",
       "      <td>Ca2+</td>\n",
       "      <td>0.000001</td>\n",
       "      <td>2</td>\n",
       "    </tr>\n",
       "    <tr>\n",
       "      <th>1</th>\n",
       "      <td>Mg2+</td>\n",
       "      <td>0.000001</td>\n",
       "      <td>2</td>\n",
       "    </tr>\n",
       "    <tr>\n",
       "      <th>2</th>\n",
       "      <td>Na+</td>\n",
       "      <td>0.000002</td>\n",
       "      <td>1</td>\n",
       "    </tr>\n",
       "    <tr>\n",
       "      <th>3</th>\n",
       "      <td>Cl-</td>\n",
       "      <td>0.000002</td>\n",
       "      <td>-1</td>\n",
       "    </tr>\n",
       "    <tr>\n",
       "      <th>4</th>\n",
       "      <td>SO42-</td>\n",
       "      <td>0.000002</td>\n",
       "      <td>-2</td>\n",
       "    </tr>\n",
       "  </tbody>\n",
       "</table>\n",
       "</div>"
      ],
      "text/plain": [
       "  Component  Concentration (mol/L)  Charge\n",
       "0      Ca2+               0.000001       2\n",
       "1      Mg2+               0.000001       2\n",
       "2       Na+               0.000002       1\n",
       "3       Cl-               0.000002      -1\n",
       "4     SO42-               0.000002      -2"
      ]
     },
     "execution_count": 6,
     "metadata": {},
     "output_type": "execute_result"
    }
   ],
   "source": [
    "lower_dict = {'Component' : ['Ca2+', 'Mg2+', 'Na+', 'Cl-', 'SO42-'],\n",
    "             'Concentration (mol/L)' : [0.000001, 0.000001, 0.000002, 0.000002, 0.000002],\n",
    "             'Charge' : [2, 2, 1, -1, -2]\n",
    "             }\n",
    "\n",
    "lower_ionic_df = pd.DataFrame(data = lower_dict)\n",
    "lower_ionic_df"
   ]
  },
  {
   "cell_type": "markdown",
   "metadata": {},
   "source": [
    "### Declare solution object\n",
    "\n",
    "Note: Solution object does not have to specifically be scored in a variable \"txy\". It can be named as any variable.\n",
    "\n",
    "It is pys.Solution as pySolution was imported as pys above."
   ]
  },
  {
   "cell_type": "code",
   "execution_count": 7,
   "metadata": {},
   "outputs": [],
   "source": [
    "txy = pys.Solution"
   ]
  },
  {
   "cell_type": "markdown",
   "metadata": {},
   "source": [
    "### Calculate the activity coefficient of Na+ in the solution defined in the dataframe\n",
    "\n",
    "Format of function: activity_coefficient(dataframe, target_ion)\n",
    "\n",
    "dataframe -> pandas dataframe with the same format as the one above\n",
    "\n",
    "target_ion -> ion as a string"
   ]
  },
  {
   "cell_type": "code",
   "execution_count": 9,
   "metadata": {},
   "outputs": [
    {
     "data": {
      "text/plain": [
       "0.9962770646624312"
      ]
     },
     "execution_count": 9,
     "metadata": {},
     "output_type": "execute_result"
    }
   ],
   "source": [
    "txy.activity_coefficient(lower_ionic_df, 'Na+')"
   ]
  },
  {
   "cell_type": "markdown",
   "metadata": {},
   "source": [
    "### Calculate the activity of water in the solution\n",
    "\n",
    "Format of function: activity_water(dataframe)"
   ]
  },
  {
   "cell_type": "code",
   "execution_count": 11,
   "metadata": {},
   "outputs": [
    {
     "data": {
      "text/plain": [
       "0.9999998564451313"
      ]
     },
     "execution_count": 11,
     "metadata": {},
     "output_type": "execute_result"
    }
   ],
   "source": [
    "txy.activity_water(lower_ionic_df)"
   ]
  },
  {
   "cell_type": "markdown",
   "metadata": {},
   "source": [
    "### Calculate osmotic coefficient"
   ]
  },
  {
   "cell_type": "code",
   "execution_count": 15,
   "metadata": {},
   "outputs": [
    {
     "data": {
      "text/plain": [
       "0.9969092080715523"
      ]
     },
     "execution_count": 15,
     "metadata": {},
     "output_type": "execute_result"
    }
   ],
   "source": [
    "txy.osmotic_coefficient_(lower_ionic_df)"
   ]
  },
  {
   "cell_type": "markdown",
   "metadata": {},
   "source": [
    "### Calculate the ionic strength of the solution"
   ]
  },
  {
   "cell_type": "code",
   "execution_count": 17,
   "metadata": {},
   "outputs": [
    {
     "data": {
      "text/plain": [
       "9.988897949245013e-06"
      ]
     },
     "execution_count": 17,
     "metadata": {},
     "output_type": "execute_result"
    }
   ],
   "source": [
    "txy.ionic_strength_(lower_ionic_df)"
   ]
  },
  {
   "cell_type": "markdown",
   "metadata": {},
   "source": [
    "### Calculate density of solution\n",
    "Density is outputted in g/mL, or kg/L"
   ]
  },
  {
   "cell_type": "code",
   "execution_count": 21,
   "metadata": {},
   "outputs": [
    {
     "data": {
      "text/plain": [
       "1.0011114390007183"
      ]
     },
     "execution_count": 21,
     "metadata": {},
     "output_type": "execute_result"
    }
   ],
   "source": [
    "txy.density_(lower_ionic_df)"
   ]
  },
  {
   "cell_type": "markdown",
   "metadata": {},
   "source": [
    "### Calculate some notable constants needed in solution chemistry\n",
    "Outputs A_phi, F and dielectric constant in order"
   ]
  },
  {
   "cell_type": "code",
   "execution_count": 19,
   "metadata": {},
   "outputs": [],
   "source": [
    "A_phi, F, dielectric_constant = txy.notable_constants(lower_ionic_df)"
   ]
  },
  {
   "cell_type": "code",
   "execution_count": 20,
   "metadata": {},
   "outputs": [
    {
     "name": "stdout",
     "output_type": "stream",
     "text": [
      "A_phi :  0.3926584479632974\n",
      "F :  -0.0037126571522846084\n",
      "dielectric constant :  78.3036490213544\n"
     ]
    }
   ],
   "source": [
    "print(\"A_phi : \", str(A_phi))\n",
    "print(\"F : \", str(F))\n",
    "print(\"dielectric constant : \", str(dielectric_constant))"
   ]
  },
  {
   "cell_type": "code",
   "execution_count": null,
   "metadata": {},
   "outputs": [],
   "source": []
  },
  {
   "cell_type": "code",
   "execution_count": null,
   "metadata": {},
   "outputs": [],
   "source": []
  }
 ],
 "metadata": {
  "kernelspec": {
   "display_name": "Python 3",
   "language": "python",
   "name": "python3"
  },
  "language_info": {
   "codemirror_mode": {
    "name": "ipython",
    "version": 3
   },
   "file_extension": ".py",
   "mimetype": "text/x-python",
   "name": "python",
   "nbconvert_exporter": "python",
   "pygments_lexer": "ipython3",
   "version": "3.6.10"
  }
 },
 "nbformat": 4,
 "nbformat_minor": 4
}
